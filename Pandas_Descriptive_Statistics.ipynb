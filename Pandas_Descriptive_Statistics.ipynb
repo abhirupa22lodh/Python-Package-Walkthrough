{
 "cells": [
  {
   "cell_type": "markdown",
   "metadata": {},
   "source": [
    "## Walkthrough to Descriptive Statistics using Pandas"
   ]
  },
  {
   "cell_type": "markdown",
   "metadata": {},
   "source": [
    "\n",
    "- count()\t Number of non-null observations\n",
    "- sum()\t     Sum of values\n",
    "- mean()\t Mean of Values\n",
    "- median()\t Median of Values\n",
    "- mode()\t Mode of values\n",
    "- std()\t     Standard Deviation of the Values\n",
    "- min()\t     Minimum Value\n",
    "- max()\t     Maximum Value\n",
    "- abs()\t     Absolute Value\n",
    "- prod()\t Product of Values\n",
    "- cumsum()\t Cumulative Sum\n",
    "- cumprod()\t Cumulative Product"
   ]
  },
  {
   "cell_type": "code",
   "execution_count": 2,
   "metadata": {
    "collapsed": true
   },
   "outputs": [],
   "source": [
    "import pandas as pd\n",
    "import numpy as np"
   ]
  },
  {
   "cell_type": "code",
   "execution_count": 8,
   "metadata": {},
   "outputs": [
    {
     "name": "stdout",
     "output_type": "stream",
     "text": [
      "    Age    Name  Rating\n",
      "0    25     Tom    4.23\n",
      "1    26   James    3.24\n",
      "2    25   Ricky    3.98\n",
      "3    23   Steve    2.56\n",
      "4    30   Smith    3.20\n",
      "5    29    Jack    4.60\n",
      "6    23     Lee    3.80\n",
      "7    34   David    3.78\n",
      "8    40  Gasper    2.98\n",
      "9    30  Betina    4.80\n",
      "10   51  Andres    4.10\n",
      "11   46     NaN    3.65\n"
     ]
    }
   ],
   "source": [
    "#Create a Dictionary of series - Data Frame\n",
    "d = {'Name':pd.Series(['Tom','James','Ricky','Steve','Smith','Jack',\n",
    "   'Lee','David','Gasper','Betina','Andres']),\n",
    "   'Age':pd.Series([25,26,25,23,30,29,23,34,40,30,51,46]),\n",
    "   'Rating':pd.Series([4.23,3.24,3.98,2.56,3.20,4.6,3.8,3.78,2.98,4.80,4.10,3.65])}\n",
    "\n",
    "#Create a DataFrame\n",
    "df = pd.DataFrame(d)\n",
    "print(df)"
   ]
  },
  {
   "cell_type": "code",
   "execution_count": 10,
   "metadata": {},
   "outputs": [
    {
     "name": "stdout",
     "output_type": "stream",
     "text": [
      "Age       12\n",
      "Name      11\n",
      "Rating    12\n",
      "dtype: int64\n"
     ]
    }
   ],
   "source": [
    "#count() - Number of non-null observations\n",
    "\n",
    "print(df.count())"
   ]
  },
  {
   "cell_type": "code",
   "execution_count": 36,
   "metadata": {},
   "outputs": [
    {
     "name": "stdout",
     "output_type": "stream",
     "text": [
      "sum of all the numeric columns - column wise sum \n",
      "Age       382.00\n",
      "Rating     44.92\n",
      "dtype: float64\n",
      "\n",
      "\n",
      "Age + ratings - row wise sum\n",
      "\n",
      "0     29.23\n",
      "1     29.24\n",
      "2     28.98\n",
      "3     25.56\n",
      "4     33.20\n",
      "5     33.60\n",
      "6     26.80\n",
      "7     37.78\n",
      "8     42.98\n",
      "9     34.80\n",
      "10    55.10\n",
      "11    49.65\n",
      "dtype: float64\n",
      "\n",
      "\n",
      "Sum of a particular column - (Here, Age)\n",
      "382\n"
     ]
    }
   ],
   "source": [
    "#sum() - sum of all the numeric columns\n",
    "print(\"sum of all the numeric columns - column wise sum \")\n",
    "print(df.sum())\n",
    "print(\"\\n\")\n",
    "\n",
    "#Column sum\n",
    "print(\"Age + ratings - row wise sum\\n\")\n",
    "print(df.sum(1))\n",
    "print(\"\\n\")\n",
    "\n",
    "#Sum of a particular column \n",
    "print(\"Sum of a particular column - (Here, Age)\")\n",
    "print(df[\"Age\"].sum())\n"
   ]
  },
  {
   "cell_type": "code",
   "execution_count": 38,
   "metadata": {},
   "outputs": [
    {
     "name": "stdout",
     "output_type": "stream",
     "text": [
      "Column wise mean \n",
      "\n",
      "Age       31.833333\n",
      "Rating     3.743333\n",
      "dtype: float64\n",
      "\n",
      "\n",
      "Row wise mean \n",
      "\n",
      "0     14.615\n",
      "1     14.620\n",
      "2     14.490\n",
      "3     12.780\n",
      "4     16.600\n",
      "5     16.800\n",
      "6     13.400\n",
      "7     18.890\n",
      "8     21.490\n",
      "9     17.400\n",
      "10    27.550\n",
      "11    24.825\n",
      "dtype: float64\n",
      "\n",
      "\n",
      "Mean of a particular column - (Here, Rating) \n",
      "\n",
      "3.7433333333333336\n"
     ]
    }
   ],
   "source": [
    "#Mean\n",
    "print(\"Column wise mean \\n\")\n",
    "print(df.mean())\n",
    "print(\"\\n\")\n",
    "print(\"Row wise mean \\n\")\n",
    "print(df.mean(1))\n",
    "print(\"\\n\")\n",
    "print(\"Mean of a particular column - (Here, Rating) \\n\")\n",
    "print(df[\"Rating\"].mean())\n"
   ]
  },
  {
   "cell_type": "code",
   "execution_count": 41,
   "metadata": {},
   "outputs": [
    {
     "name": "stdout",
     "output_type": "stream",
     "text": [
      "Age       29.50\n",
      "Rating     3.79\n",
      "dtype: float64\n"
     ]
    }
   ],
   "source": [
    "#median of the columns\n",
    "print(df.median())"
   ]
  },
  {
   "cell_type": "code",
   "execution_count": 43,
   "metadata": {},
   "outputs": [
    {
     "name": "stdout",
     "output_type": "stream",
     "text": [
      "0    23\n",
      "1    25\n",
      "2    30\n",
      "dtype: int64\n"
     ]
    }
   ],
   "source": [
    "#mode of a column\n",
    "print(df[\"Age\"].mode())"
   ]
  },
  {
   "cell_type": "code",
   "execution_count": 44,
   "metadata": {},
   "outputs": [
    {
     "name": "stdout",
     "output_type": "stream",
     "text": [
      "Age       9.232682\n",
      "Rating    0.661628\n",
      "dtype: float64\n"
     ]
    }
   ],
   "source": [
    "#Standard Deviation of columns\n",
    "print(df.std())"
   ]
  },
  {
   "cell_type": "code",
   "execution_count": 45,
   "metadata": {},
   "outputs": [
    {
     "name": "stdout",
     "output_type": "stream",
     "text": [
      "Age       23.00\n",
      "Rating     2.56\n",
      "dtype: float64\n"
     ]
    }
   ],
   "source": [
    "#Minimum value of a column\n",
    "print(df.min())"
   ]
  },
  {
   "cell_type": "code",
   "execution_count": 46,
   "metadata": {},
   "outputs": [
    {
     "name": "stdout",
     "output_type": "stream",
     "text": [
      "Age       51.0\n",
      "Rating     4.8\n",
      "dtype: float64\n"
     ]
    }
   ],
   "source": [
    "#Maximum Value of a column\n",
    "print(df.max())"
   ]
  },
  {
   "cell_type": "code",
   "execution_count": 62,
   "metadata": {},
   "outputs": [
    {
     "name": "stdout",
     "output_type": "stream",
     "text": [
      "0     25\n",
      "1     26\n",
      "2     25\n",
      "3     23\n",
      "4     30\n",
      "5     29\n",
      "6     23\n",
      "7     34\n",
      "8     40\n",
      "9     30\n",
      "10    51\n",
      "11    46\n",
      "Name: Age, dtype: int64\n"
     ]
    },
    {
     "ename": "NameError",
     "evalue": "name 'floor' is not defined",
     "output_type": "error",
     "traceback": [
      "\u001b[1;31m---------------------------------------------------------------------------\u001b[0m",
      "\u001b[1;31mNameError\u001b[0m                                 Traceback (most recent call last)",
      "\u001b[1;32m<ipython-input-62-cd8e92f3ea20>\u001b[0m in \u001b[0;36m<module>\u001b[1;34m()\u001b[0m\n\u001b[0;32m      2\u001b[0m \u001b[0mprint\u001b[0m\u001b[1;33m(\u001b[0m\u001b[0mdf\u001b[0m\u001b[1;33m[\u001b[0m\u001b[1;34m\"Age\"\u001b[0m\u001b[1;33m]\u001b[0m\u001b[1;33m.\u001b[0m\u001b[0mabs\u001b[0m\u001b[1;33m(\u001b[0m\u001b[1;33m)\u001b[0m\u001b[1;33m)\u001b[0m\u001b[1;33m\u001b[0m\u001b[0m\n\u001b[0;32m      3\u001b[0m \u001b[1;33m\u001b[0m\u001b[0m\n\u001b[1;32m----> 4\u001b[1;33m \u001b[0mfloor\u001b[0m\u001b[1;33m(\u001b[0m\u001b[1;36m1.235\u001b[0m\u001b[1;33m)\u001b[0m\u001b[1;33m\u001b[0m\u001b[0m\n\u001b[0m",
      "\u001b[1;31mNameError\u001b[0m: name 'floor' is not defined"
     ]
    }
   ],
   "source": [
    "#Absolute values of the column elements\n",
    "print(df[\"Age\"].abs())"
   ]
  },
  {
   "cell_type": "code",
   "execution_count": 53,
   "metadata": {},
   "outputs": [
    {
     "name": "stdout",
     "output_type": "stream",
     "text": [
      "0     105.75\n",
      "1      84.24\n",
      "2      99.50\n",
      "3      58.88\n",
      "4      96.00\n",
      "5     133.40\n",
      "6      87.40\n",
      "7     128.52\n",
      "8     119.20\n",
      "9     144.00\n",
      "10    209.10\n",
      "11    167.90\n",
      "dtype: float64\n"
     ]
    }
   ],
   "source": [
    "#Row wise product\n",
    "print(df.prod(1))"
   ]
  },
  {
   "cell_type": "code",
   "execution_count": 56,
   "metadata": {},
   "outputs": [
    {
     "name": "stdout",
     "output_type": "stream",
     "text": [
      "0      4.23\n",
      "1      7.47\n",
      "2     11.45\n",
      "3     14.01\n",
      "4     17.21\n",
      "5     21.81\n",
      "6     25.61\n",
      "7     29.39\n",
      "8     32.37\n",
      "9     37.17\n",
      "10    41.27\n",
      "11    44.92\n",
      "Name: Rating, dtype: float64\n"
     ]
    }
   ],
   "source": [
    "#Cummulative Sum\n",
    "print(df[\"Rating\"].cumsum())"
   ]
  },
  {
   "cell_type": "code",
   "execution_count": 57,
   "metadata": {},
   "outputs": [
    {
     "name": "stdout",
     "output_type": "stream",
     "text": [
      "0                     25\n",
      "1                    650\n",
      "2                  16250\n",
      "3                 373750\n",
      "4               11212500\n",
      "5              325162500\n",
      "6             7478737500\n",
      "7           254277075000\n",
      "8         10171083000000\n",
      "9        305132490000000\n",
      "10     15561756990000000\n",
      "11    715840821540000000\n",
      "Name: Age, dtype: int64\n"
     ]
    }
   ],
   "source": [
    "#Cummulative Product\n",
    "print(df[\"Age\"].cumprod())"
   ]
  },
  {
   "cell_type": "code",
   "execution_count": null,
   "metadata": {
    "collapsed": true
   },
   "outputs": [],
   "source": []
  },
  {
   "cell_type": "code",
   "execution_count": null,
   "metadata": {
    "collapsed": true
   },
   "outputs": [],
   "source": []
  },
  {
   "cell_type": "code",
   "execution_count": null,
   "metadata": {
    "collapsed": true
   },
   "outputs": [],
   "source": []
  },
  {
   "cell_type": "code",
   "execution_count": null,
   "metadata": {
    "collapsed": true
   },
   "outputs": [],
   "source": []
  },
  {
   "cell_type": "code",
   "execution_count": null,
   "metadata": {
    "collapsed": true
   },
   "outputs": [],
   "source": []
  }
 ],
 "metadata": {
  "kernelspec": {
   "display_name": "Python 3",
   "language": "python",
   "name": "python3"
  },
  "language_info": {
   "codemirror_mode": {
    "name": "ipython",
    "version": 3
   },
   "file_extension": ".py",
   "mimetype": "text/x-python",
   "name": "python",
   "nbconvert_exporter": "python",
   "pygments_lexer": "ipython3",
   "version": "3.6.3"
  }
 },
 "nbformat": 4,
 "nbformat_minor": 2
}
