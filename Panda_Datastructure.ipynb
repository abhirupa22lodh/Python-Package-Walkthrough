{
 "cells": [
  {
   "cell_type": "markdown",
   "metadata": {},
   "source": [
    "# Introduction To Data Structures Handled By Pandas"
   ]
  },
  {
   "cell_type": "code",
   "execution_count": 7,
   "metadata": {
    "collapsed": true
   },
   "outputs": [],
   "source": [
    "###Libraries\n",
    "\n",
    "import pandas as pd\n",
    "import numpy as np"
   ]
  },
  {
   "cell_type": "markdown",
   "metadata": {},
   "source": [
    "### Data Types Handled By Pandas\n",
    "- Series (1D homogeneous array) \n",
    "- DataFrames(2D collection of Series - Heterogenous)\n",
    "- Panel (3D - Heteroenous)"
   ]
  },
  {
   "cell_type": "code",
   "execution_count": 12,
   "metadata": {},
   "outputs": [
    {
     "name": "stdout",
     "output_type": "stream",
     "text": [
      "0    a\n",
      "1    b\n",
      "2    c\n",
      "3    d\n",
      "dtype: object\n"
     ]
    }
   ],
   "source": [
    "#Series of Array\n",
    "a = pd.Series(np.array(['a','b','c','d']))\n",
    "print(a)"
   ]
  },
  {
   "cell_type": "markdown",
   "metadata": {},
   "source": [
    "### 1. Series"
   ]
  },
  {
   "cell_type": "code",
   "execution_count": 91,
   "metadata": {},
   "outputs": [
    {
     "name": "stdout",
     "output_type": "stream",
     "text": [
      "0    5\n",
      "dtype: int64\n"
     ]
    }
   ],
   "source": [
    "#Scalar Series\n",
    "print(pd.Series(5))"
   ]
  },
  {
   "cell_type": "code",
   "execution_count": 92,
   "metadata": {},
   "outputs": [
    {
     "name": "stdout",
     "output_type": "stream",
     "text": [
      "0    1\n",
      "1    2\n",
      "2    3\n",
      "3    4\n",
      "4    5\n",
      "dtype: int64\n"
     ]
    }
   ],
   "source": [
    "#\n",
    "print(pd.Series([1,2,3,4,5]))"
   ]
  },
  {
   "cell_type": "code",
   "execution_count": 48,
   "metadata": {},
   "outputs": [
    {
     "name": "stdout",
     "output_type": "stream",
     "text": [
      "b    1.0\n",
      "c    2.0\n",
      "d    NaN\n",
      "a    0.0\n",
      "dtype: float64\n"
     ]
    }
   ],
   "source": [
    "#Displaying Data using sequence of choice\n",
    "#data is dict here\n",
    "data = {'a' : 0., 'b' : 1., 'c' : 2.}\n",
    "s = pd.Series(data,index=['b','c','d','a'])\n",
    "print(s)"
   ]
  },
  {
   "cell_type": "code",
   "execution_count": 90,
   "metadata": {},
   "outputs": [
    {
     "name": "stdout",
     "output_type": "stream",
     "text": [
      "b    1.0\n",
      "c    2.0\n",
      "d    NaN\n",
      "dtype: float64\n"
     ]
    }
   ],
   "source": [
    "#Displaying first 3 elements of the series\n",
    "print(s[:3])"
   ]
  },
  {
   "cell_type": "markdown",
   "metadata": {},
   "source": [
    "### 2. Data Frames"
   ]
  },
  {
   "cell_type": "code",
   "execution_count": 89,
   "metadata": {},
   "outputs": [
    {
     "name": "stdout",
     "output_type": "stream",
     "text": [
      "[['Alex', 10], ['Bob', 12], ['Clarke', 13]]\n"
     ]
    }
   ],
   "source": [
    "#Creating List\n",
    "data = [['Alex',10],['Bob',12],['Clarke',13]]\n",
    "print(data)"
   ]
  },
  {
   "cell_type": "code",
   "execution_count": 88,
   "metadata": {},
   "outputs": [
    {
     "name": "stdout",
     "output_type": "stream",
     "text": [
      "    Name  Age\n",
      "0    Tom   28\n",
      "1   Jack   34\n",
      "2  Steve   29\n",
      "3  Ricky   42\n"
     ]
    }
   ],
   "source": [
    "#Creating Dataframe from a list\n",
    "df = pd.DataFrame(data,columns=['Name','Age'])\n",
    "print(df)"
   ]
  },
  {
   "cell_type": "code",
   "execution_count": 87,
   "metadata": {},
   "outputs": [
    {
     "name": "stdout",
     "output_type": "stream",
     "text": [
      "   Age   Name\n",
      "0   28    Tom\n",
      "1   34   Jack\n",
      "2   29  Steve\n",
      "3   42  Ricky\n"
     ]
    }
   ],
   "source": [
    "#Creating Dataframe Using ndarrays of same length (its a must)\n",
    "data = {'Name':['Tom', 'Jack', 'Steve', 'Ricky'],'Age':[28,34,29,42]}\n",
    "df = pd.DataFrame(data)\n",
    "print(df)"
   ]
  },
  {
   "cell_type": "code",
   "execution_count": 86,
   "metadata": {},
   "outputs": [
    {
     "name": "stdout",
     "output_type": "stream",
     "text": [
      "    Age   Name\n",
      "r1   28    Tom\n",
      "r2   34   Jack\n",
      "r3   29  Steve\n",
      "r4   42  Ricky\n"
     ]
    }
   ],
   "source": [
    "#Creating Dataframe Using ndarrays with user defined row names\n",
    "data = {'Name':['Tom', 'Jack', 'Steve', 'Ricky'],'Age':[28,34,29,42]}\n",
    "df = pd.DataFrame(data, index=['r1','r2','r3','r4'])\n",
    "print(df)"
   ]
  },
  {
   "cell_type": "code",
   "execution_count": 45,
   "metadata": {},
   "outputs": [
    {
     "name": "stdout",
     "output_type": "stream",
     "text": [
      "   a   b     c\n",
      "0  1   2   NaN\n",
      "1  5  10  20.0\n"
     ]
    }
   ],
   "source": [
    "#Creating Dataframe Using list of dicts\n",
    "data = [{'a': 1, 'b': 2},{'a': 5, 'b': 10, 'c': 20}]\n",
    "df = pd.DataFrame(data)\n",
    "print(df)"
   ]
  },
  {
   "cell_type": "code",
   "execution_count": 53,
   "metadata": {},
   "outputs": [
    {
     "name": "stdout",
     "output_type": "stream",
     "text": [
      "   a  b  c  d   e\n",
      "0  1  2  3  4   5\n",
      "1  6  7  8  9  10\n"
     ]
    }
   ],
   "source": [
    "#Creating Dataframe using list of tuples\n",
    "data = [(1,2,3,4,5),(6,7,8,9,10)]\n",
    "df = pd.DataFrame(data,columns=['a','b','c','d','e'])\n",
    "print(df)"
   ]
  },
  {
   "cell_type": "code",
   "execution_count": 57,
   "metadata": {},
   "outputs": [
    {
     "name": "stdout",
     "output_type": "stream",
     "text": [
      "   a  b  c  d   e\n",
      "0  1  2  3  4   5\n",
      "1  6  7  8  9  10\n"
     ]
    }
   ],
   "source": [
    "#Creating Dataframe using List of list\n",
    "data = [[1,2,3,4,5],[6,7,8,9,10]]\n",
    "df = pd.DataFrame(data,columns=['a','b','c','d','e'])\n",
    "print(df)"
   ]
  },
  {
   "cell_type": "code",
   "execution_count": 68,
   "metadata": {},
   "outputs": [
    {
     "name": "stdout",
     "output_type": "stream",
     "text": [
      "    a   b   c   d   e\n",
      "0   1   2   3   4   5\n",
      "1   6   7   8   9  10\n",
      "0  11  12  13  14  15\n",
      "1  16  17  18  19  20\n"
     ]
    }
   ],
   "source": [
    "#Appending Rows\n",
    "\n",
    "data1 = [(1,2,3,4,5),(6,7,8,9,10)]\n",
    "df1 = pd.DataFrame(data1,columns=['a','b','c','d','e'])\n",
    "data2 = [[11,12,13,14,15],[16,17,18,19,20]]\n",
    "df2 = pd.DataFrame(data2,columns=['a','b','c','d','e'])\n",
    "df3 = df1.append(df2)\n",
    "print(df3)"
   ]
  },
  {
   "cell_type": "code",
   "execution_count": 76,
   "metadata": {},
   "outputs": [
    {
     "name": "stdout",
     "output_type": "stream",
     "text": [
      "   a  b  c  d  e\n",
      "0  1  2  3  4  5\n"
     ]
    }
   ],
   "source": [
    "#Selecting Rows - Displaying 0th row\n",
    "\n",
    "print(df3[0:1])\n"
   ]
  },
  {
   "cell_type": "code",
   "execution_count": 75,
   "metadata": {},
   "outputs": [
    {
     "name": "stdout",
     "output_type": "stream",
     "text": [
      "    a   b   c   d   e\n",
      "0   1   2   3   4   5\n",
      "1   6   7   8   9  10\n",
      "0  11  12  13  14  15\n"
     ]
    }
   ],
   "source": [
    "#Selecting Multiple Rows - Displaying 0th row\n",
    "\n",
    "print(df3[0:3])\n"
   ]
  },
  {
   "cell_type": "code",
   "execution_count": 82,
   "metadata": {},
   "outputs": [
    {
     "name": "stdout",
     "output_type": "stream",
     "text": [
      "    a   b   c   d   e\n",
      "0   1   2   3   4   5\n",
      "1   6   7   8   9  10\n",
      "2  11  12  13  14  15\n",
      "3  16  17  18  19  20\n"
     ]
    }
   ],
   "source": [
    "#Deleting Rows - Delete works on rownames\n",
    "\n",
    "df1 = pd.DataFrame([[11,12,13,14,15],[16,17,18,19,20]],columns=['a','b','c','d','e'],index=[2,3])\n",
    "df=df.append(df1)\n",
    "print(df)\n"
   ]
  },
  {
   "cell_type": "code",
   "execution_count": 85,
   "metadata": {},
   "outputs": [
    {
     "name": "stdout",
     "output_type": "stream",
     "text": [
      "    a   b   c   d   e\n",
      "0   1   2   3   4   5\n",
      "1   6   7   8   9  10\n",
      "2  11  12  13  14  15\n"
     ]
    }
   ],
   "source": [
    "df=df.drop(3)\n",
    "print(df)"
   ]
  },
  {
   "cell_type": "markdown",
   "metadata": {},
   "source": [
    "### 3. Panel"
   ]
  },
  {
   "cell_type": "code",
   "execution_count": 101,
   "metadata": {},
   "outputs": [
    {
     "name": "stdout",
     "output_type": "stream",
     "text": [
      "          0         1         2\n",
      "0 -1.612612 -0.952141 -0.342491\n",
      "1 -0.961943  0.924671  1.866366\n",
      "2 -1.619057 -0.278124  0.541421\n",
      "3 -1.317838  1.306325  1.286428\n",
      "\n",
      "\n",
      "\n",
      "          0         1   2\n",
      "0  2.208245  1.026790 NaN\n",
      "1  1.066009 -0.848058 NaN\n",
      "2 -0.180928  1.053355 NaN\n",
      "3 -0.542570 -1.643881 NaN\n"
     ]
    }
   ],
   "source": [
    "#3D datastructure of 2D dataframes\n",
    "\n",
    "data = {'Item1' : pd.DataFrame(np.random.randn(4, 3)), \n",
    "        'Item2' : pd.DataFrame(np.random.randn(4, 2))}\n",
    "p = pd.Panel(data)\n",
    "print(p['Item1'])\n",
    "print(\"\\n\\n\")\n",
    "print(p['Item2'])\n"
   ]
  },
  {
   "cell_type": "code",
   "execution_count": 104,
   "metadata": {},
   "outputs": [
    {
     "name": "stdout",
     "output_type": "stream",
     "text": [
      "      Item1     Item2\n",
      "0 -1.619057 -0.180928\n",
      "1 -0.278124  1.053355\n",
      "2  0.541421       NaN\n",
      "\n",
      "\n",
      "\n",
      "      Item1  Item2\n",
      "0 -0.342491    NaN\n",
      "1  1.866366    NaN\n",
      "2  0.541421    NaN\n",
      "3  1.286428    NaN\n"
     ]
    }
   ],
   "source": [
    "#Displays nth row of each dataframe\n",
    "print(p.major_xs(2))\n",
    "print(\"\\n\\n\")\n",
    "\n",
    "#Displays nth Column of each dataframe\n",
    "print(p.minor_xs(2))"
   ]
  }
 ],
 "metadata": {
  "kernelspec": {
   "display_name": "Python 3",
   "language": "python",
   "name": "python3"
  },
  "language_info": {
   "codemirror_mode": {
    "name": "ipython",
    "version": 3
   },
   "file_extension": ".py",
   "mimetype": "text/x-python",
   "name": "python",
   "nbconvert_exporter": "python",
   "pygments_lexer": "ipython3",
   "version": "3.6.3"
  }
 },
 "nbformat": 4,
 "nbformat_minor": 2
}
